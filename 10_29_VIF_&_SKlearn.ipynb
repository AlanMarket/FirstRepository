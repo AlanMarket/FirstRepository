{
  "nbformat": 4,
  "nbformat_minor": 0,
  "metadata": {
    "colab": {
      "name": "10/29 VIF & SKlearn.ipynb",
      "provenance": [],
      "include_colab_link": true
    },
    "kernelspec": {
      "name": "python3",
      "display_name": "Python 3"
    }
  },
  "cells": [
    {
      "cell_type": "markdown",
      "metadata": {
        "id": "view-in-github",
        "colab_type": "text"
      },
      "source": [
        "<a href=\"https://colab.research.google.com/github/AlanMarket/FirstRepository/blob/master/10_29_VIF_%26_SKlearn.ipynb\" target=\"_parent\"><img src=\"https://colab.research.google.com/assets/colab-badge.svg\" alt=\"Open In Colab\"/></a>"
      ]
    },
    {
      "cell_type": "code",
      "metadata": {
        "id": "EmI771WSEmpL",
        "colab_type": "code",
        "outputId": "abd94053-1253-4af7-a178-af39edc9d62a",
        "colab": {
          "base_uri": "https://localhost:8080/",
          "height": 122
        }
      },
      "source": [
        "import pandas as pd\n",
        "import numpy as np \n",
        "import seaborn as sns\n",
        "\n",
        "import statsmodels.api as sm\n",
        "import sklearn as sk\n",
        "\n",
        "from statsmodels.stats.outliers_influence import variance_inflation_factor\n",
        "from sklearn.linear_model import LassoCV, LarsCV, LassoLarsCV\n",
        "from sklearn.metrics import mean_squared_error, r2_score, mean_absolute_error, accuracy_score\n",
        "\n",
        "from google.colab import drive\n",
        "drive.mount('/content/drive/')\n"
      ],
      "execution_count": 0,
      "outputs": [
        {
          "output_type": "stream",
          "text": [
            "Go to this URL in a browser: https://accounts.google.com/o/oauth2/auth?client_id=947318989803-6bn6qk8qdgf4n4g3pfee6491hc0brc4i.apps.googleusercontent.com&redirect_uri=urn%3Aietf%3Awg%3Aoauth%3A2.0%3Aoob&scope=email%20https%3A%2F%2Fwww.googleapis.com%2Fauth%2Fdocs.test%20https%3A%2F%2Fwww.googleapis.com%2Fauth%2Fdrive%20https%3A%2F%2Fwww.googleapis.com%2Fauth%2Fdrive.photos.readonly%20https%3A%2F%2Fwww.googleapis.com%2Fauth%2Fpeopleapi.readonly&response_type=code\n",
            "\n",
            "Enter your authorization code:\n",
            "··········\n",
            "Mounted at /content/drive/\n"
          ],
          "name": "stdout"
        }
      ]
    },
    {
      "cell_type": "code",
      "metadata": {
        "id": "jxGi_AuAFz91",
        "colab_type": "code",
        "colab": {}
      },
      "source": [
        "excelfile = 'drive/My Drive/ColabFiles/nativeads.xls'\n",
        "adataframe = pd.read_excel(excelfile)"
      ],
      "execution_count": 0,
      "outputs": []
    },
    {
      "cell_type": "code",
      "metadata": {
        "id": "YKjN6jPbGu8C",
        "colab_type": "code",
        "colab": {}
      },
      "source": [
        "pivoteddata = adataframe.pivot_table(index='URL', aggfunc='mean')"
      ],
      "execution_count": 0,
      "outputs": []
    },
    {
      "cell_type": "code",
      "metadata": {
        "id": "N8w5kmSXG4MV",
        "colab_type": "code",
        "outputId": "0e68f6d7-6c0b-4b2f-9873-4ab0246aa1af",
        "colab": {
          "base_uri": "https://localhost:8080/",
          "height": 357
        }
      },
      "source": [
        "pivoteddata.head()"
      ],
      "execution_count": 0,
      "outputs": [
        {
          "output_type": "execute_result",
          "data": {
            "text/html": [
              "<div>\n",
              "<style scoped>\n",
              "    .dataframe tbody tr th:only-of-type {\n",
              "        vertical-align: middle;\n",
              "    }\n",
              "\n",
              "    .dataframe tbody tr th {\n",
              "        vertical-align: top;\n",
              "    }\n",
              "\n",
              "    .dataframe thead th {\n",
              "        text-align: right;\n",
              "    }\n",
              "</style>\n",
              "<table border=\"1\" class=\"dataframe\">\n",
              "  <thead>\n",
              "    <tr style=\"text-align: right;\">\n",
              "      <th></th>\n",
              "      <th>CPA</th>\n",
              "      <th>CTR(%)</th>\n",
              "      <th>Clicks</th>\n",
              "      <th>Conversions</th>\n",
              "      <th>Cost</th>\n",
              "      <th>Impressions</th>\n",
              "    </tr>\n",
              "    <tr>\n",
              "      <th>URL</th>\n",
              "      <th></th>\n",
              "      <th></th>\n",
              "      <th></th>\n",
              "      <th></th>\n",
              "      <th></th>\n",
              "      <th></th>\n",
              "    </tr>\n",
              "  </thead>\n",
              "  <tbody>\n",
              "    <tr>\n",
              "      <th>http://aluxurytravelblog.com/2013/10/23/4-simple-steps-to-cheaper-hotel-rates-with-travelpony/</th>\n",
              "      <td>3.180000</td>\n",
              "      <td>0.025300</td>\n",
              "      <td>28.000000</td>\n",
              "      <td>2.000000</td>\n",
              "      <td>6.360000</td>\n",
              "      <td>1.105280e+05</td>\n",
              "    </tr>\n",
              "    <tr>\n",
              "      <th>http://beersandbeans.com/2013/10/14/travelpony-review/</th>\n",
              "      <td>1.292945</td>\n",
              "      <td>0.041042</td>\n",
              "      <td>1222.846154</td>\n",
              "      <td>65.653846</td>\n",
              "      <td>240.895839</td>\n",
              "      <td>1.078494e+06</td>\n",
              "    </tr>\n",
              "    <tr>\n",
              "      <th>http://beinginawe.com/how-booking-the-hotel-with-travelpony-com-saved-us-a-lot-of-time-and-money/</th>\n",
              "      <td>0.141167</td>\n",
              "      <td>0.177659</td>\n",
              "      <td>68.242593</td>\n",
              "      <td>1.570370</td>\n",
              "      <td>5.578093</td>\n",
              "      <td>3.626747e+04</td>\n",
              "    </tr>\n",
              "    <tr>\n",
              "      <th>http://blog.travelpony.com/2013/09/25/5-must-see-attractions-in-atlanta/</th>\n",
              "      <td>0.000000</td>\n",
              "      <td>0.067500</td>\n",
              "      <td>93.333333</td>\n",
              "      <td>0.000000</td>\n",
              "      <td>19.123333</td>\n",
              "      <td>1.192400e+05</td>\n",
              "    </tr>\n",
              "    <tr>\n",
              "      <th>http://blog.travelpony.com/2013/09/30/7-of-the-best-free-attractions-in-boston/</th>\n",
              "      <td>0.000000</td>\n",
              "      <td>0.020300</td>\n",
              "      <td>0.666667</td>\n",
              "      <td>0.000000</td>\n",
              "      <td>0.166667</td>\n",
              "      <td>3.015000e+03</td>\n",
              "    </tr>\n",
              "  </tbody>\n",
              "</table>\n",
              "</div>"
            ],
            "text/plain": [
              "                                                         CPA  ...   Impressions\n",
              "URL                                                           ...              \n",
              "http://aluxurytravelblog.com/2013/10/23/4-simpl...  3.180000  ...  1.105280e+05\n",
              "http://beersandbeans.com/2013/10/14/travelpony-...  1.292945  ...  1.078494e+06\n",
              "http://beinginawe.com/how-booking-the-hotel-wit...  0.141167  ...  3.626747e+04\n",
              "http://blog.travelpony.com/2013/09/25/5-must-se...  0.000000  ...  1.192400e+05\n",
              "http://blog.travelpony.com/2013/09/30/7-of-the-...  0.000000  ...  3.015000e+03\n",
              "\n",
              "[5 rows x 6 columns]"
            ]
          },
          "metadata": {
            "tags": []
          },
          "execution_count": 7
        }
      ]
    },
    {
      "cell_type": "code",
      "metadata": {
        "id": "9tl1HQgUG6VG",
        "colab_type": "code",
        "outputId": "a6c69a1a-867a-4f54-d350-de5dff6689f2",
        "colab": {
          "base_uri": "https://localhost:8080/",
          "height": 34
        }
      },
      "source": [
        "pivoteddata.columns"
      ],
      "execution_count": 0,
      "outputs": [
        {
          "output_type": "execute_result",
          "data": {
            "text/plain": [
              "Index(['CPA', 'CTR(%)', 'Clicks', 'Conversions', 'Cost', 'Impressions'], dtype='object')"
            ]
          },
          "metadata": {
            "tags": []
          },
          "execution_count": 8
        }
      ]
    },
    {
      "cell_type": "code",
      "metadata": {
        "id": "1Cx0gScOHBr7",
        "colab_type": "code",
        "outputId": "3fbbc186-aa4b-4d1e-ef5e-17bd805151ba",
        "colab": {
          "base_uri": "https://localhost:8080/",
          "height": 527
        }
      },
      "source": [
        "target=pivoteddata['Conversions']\n",
        "dep= pivoteddata[['CPA','CTR(%)', 'Clicks', 'Cost', 'Impressions']]\n",
        "mod = sm.OLS(target, dep)\n",
        "res = mod.fit()\n",
        "print(res.summary())"
      ],
      "execution_count": 0,
      "outputs": [
        {
          "output_type": "stream",
          "text": [
            "                                 OLS Regression Results                                \n",
            "=======================================================================================\n",
            "Dep. Variable:            Conversions   R-squared (uncentered):                   0.931\n",
            "Model:                            OLS   Adj. R-squared (uncentered):              0.927\n",
            "Method:                 Least Squares   F-statistic:                              284.4\n",
            "Date:                Wed, 13 Nov 2019   Prob (F-statistic):                    1.04e-59\n",
            "Time:                        00:41:39   Log-Likelihood:                         -420.22\n",
            "No. Observations:                 111   AIC:                                      850.4\n",
            "Df Residuals:                     106   BIC:                                      864.0\n",
            "Df Model:                           5                                                  \n",
            "Covariance Type:            nonrobust                                                  \n",
            "===============================================================================\n",
            "                  coef    std err          t      P>|t|      [0.025      0.975]\n",
            "-------------------------------------------------------------------------------\n",
            "CPA            -0.2746      0.064     -4.302      0.000      -0.401      -0.148\n",
            "CTR(%)         10.8900     12.740      0.855      0.395     -14.368      36.148\n",
            "Clicks         -0.0077      0.004     -2.022      0.046      -0.015      -0.000\n",
            "Cost            0.1483      0.029      5.085      0.000       0.090       0.206\n",
            "Impressions  1.494e-05   3.71e-06      4.028      0.000    7.59e-06    2.23e-05\n",
            "==============================================================================\n",
            "Omnibus:                      136.300   Durbin-Watson:                   2.088\n",
            "Prob(Omnibus):                  0.000   Jarque-Bera (JB):             4119.674\n",
            "Skew:                           4.196   Prob(JB):                         0.00\n",
            "Kurtosis:                      31.641   Cond. No.                     1.21e+07\n",
            "==============================================================================\n",
            "\n",
            "Warnings:\n",
            "[1] Standard Errors assume that the covariance matrix of the errors is correctly specified.\n",
            "[2] The condition number is large, 1.21e+07. This might indicate that there are\n",
            "strong multicollinearity or other numerical problems.\n"
          ],
          "name": "stdout"
        }
      ]
    },
    {
      "cell_type": "code",
      "metadata": {
        "id": "GgPtENJEHVHV",
        "colab_type": "code",
        "outputId": "3d11ebbe-b23a-4b69-e13a-19841373e5b7",
        "colab": {
          "base_uri": "https://localhost:8080/",
          "height": 51
        }
      },
      "source": [
        "predictions = ols.predict(dep)\n",
        "error = abs(predictions-target)\n",
        "meanerror = np.mean(error)\n",
        "print(meanerror)\n",
        "print(np.std(error))"
      ],
      "execution_count": 0,
      "outputs": [
        {
          "output_type": "stream",
          "text": [
            "4.993822779306258\n",
            "9.422132886565878\n"
          ],
          "name": "stdout"
        }
      ]
    },
    {
      "cell_type": "code",
      "metadata": {
        "id": "BLv89YdzJDPS",
        "colab_type": "code",
        "outputId": "8504d1ed-a21e-48a6-a85d-041070828573",
        "colab": {
          "base_uri": "https://localhost:8080/",
          "height": 187
        }
      },
      "source": [
        "for predictor in range(len(dep.columns)):\n",
        "  print(predictor)\n",
        "  vifscore = variance_inflation_factor(dep.values, predictor)\n",
        "  print(dep.columns[predictor], vifscore)\n"
      ],
      "execution_count": 0,
      "outputs": [
        {
          "output_type": "stream",
          "text": [
            "0\n",
            "CPA 1.2889209626296867\n",
            "1\n",
            "CTR(%) 1.3486620305946422\n",
            "2\n",
            "Clicks 21.246456657147966\n",
            "3\n",
            "Cost 42.345934675263685\n",
            "4\n",
            "Impressions 12.385984492641153\n"
          ],
          "name": "stdout"
        }
      ]
    },
    {
      "cell_type": "code",
      "metadata": {
        "id": "1Nt8whsYKUpe",
        "colab_type": "code",
        "colab": {}
      },
      "source": [
        "model = LassoLarsCV(cv=20, precompute=False)\n",
        "lasso = model.fit(dep, target)\n"
      ],
      "execution_count": 0,
      "outputs": []
    },
    {
      "cell_type": "code",
      "metadata": {
        "id": "2yrAtw9eLdOL",
        "colab_type": "code",
        "colab": {}
      },
      "source": [
        "predictors_model=pd.DataFrame(dep.columns)\n",
        "predictors_model.columns = ['label']\n",
        "predictors_model['coeff'] = model.coef_"
      ],
      "execution_count": 0,
      "outputs": []
    },
    {
      "cell_type": "code",
      "metadata": {
        "id": "e3mddSYaMKiQ",
        "colab_type": "code",
        "outputId": "487a0234-738b-40fd-f187-8ed4da09d9b5",
        "colab": {
          "base_uri": "https://localhost:8080/",
          "height": 204
        }
      },
      "source": [
        "predictors_model"
      ],
      "execution_count": 0,
      "outputs": [
        {
          "output_type": "execute_result",
          "data": {
            "text/html": [
              "<div>\n",
              "<style scoped>\n",
              "    .dataframe tbody tr th:only-of-type {\n",
              "        vertical-align: middle;\n",
              "    }\n",
              "\n",
              "    .dataframe tbody tr th {\n",
              "        vertical-align: top;\n",
              "    }\n",
              "\n",
              "    .dataframe thead th {\n",
              "        text-align: right;\n",
              "    }\n",
              "</style>\n",
              "<table border=\"1\" class=\"dataframe\">\n",
              "  <thead>\n",
              "    <tr style=\"text-align: right;\">\n",
              "      <th></th>\n",
              "      <th>label</th>\n",
              "      <th>coeff</th>\n",
              "    </tr>\n",
              "  </thead>\n",
              "  <tbody>\n",
              "    <tr>\n",
              "      <th>0</th>\n",
              "      <td>CPA</td>\n",
              "      <td>-0.193472</td>\n",
              "    </tr>\n",
              "    <tr>\n",
              "      <th>1</th>\n",
              "      <td>CTR(%)</td>\n",
              "      <td>0.000000</td>\n",
              "    </tr>\n",
              "    <tr>\n",
              "      <th>2</th>\n",
              "      <td>Clicks</td>\n",
              "      <td>0.000000</td>\n",
              "    </tr>\n",
              "    <tr>\n",
              "      <th>3</th>\n",
              "      <td>Cost</td>\n",
              "      <td>0.088407</td>\n",
              "    </tr>\n",
              "    <tr>\n",
              "      <th>4</th>\n",
              "      <td>Impressions</td>\n",
              "      <td>0.000018</td>\n",
              "    </tr>\n",
              "  </tbody>\n",
              "</table>\n",
              "</div>"
            ],
            "text/plain": [
              "         label     coeff\n",
              "0          CPA -0.193472\n",
              "1       CTR(%)  0.000000\n",
              "2       Clicks  0.000000\n",
              "3         Cost  0.088407\n",
              "4  Impressions  0.000018"
            ]
          },
          "metadata": {
            "tags": []
          },
          "execution_count": 42
        }
      ]
    },
    {
      "cell_type": "code",
      "metadata": {
        "id": "-mylS_o8MOoN",
        "colab_type": "code",
        "outputId": "609d94fa-0f07-4689-9c78-6919842b371f",
        "colab": {
          "base_uri": "https://localhost:8080/",
          "height": 51
        }
      },
      "source": [
        "predictions = lasso.predict(dep)\n",
        "error = abs(predictions-target)\n",
        "meanerror = np.mean(error)\n",
        "print(meanerror)\n",
        "print(np.std(error))"
      ],
      "execution_count": 0,
      "outputs": [
        {
          "output_type": "stream",
          "text": [
            "5.287356599892492\n",
            "9.796610892823637\n"
          ],
          "name": "stdout"
        }
      ]
    },
    {
      "cell_type": "code",
      "metadata": {
        "id": "QcGdyHPiNHB1",
        "colab_type": "code",
        "colab": {}
      },
      "source": [
        "lars = sk.linear_model.Lars().fit(dep, target)\n",
        "\n",
        "#lassoLars = sk.linear_model.LassoLarsCV().fit(dep, target)"
      ],
      "execution_count": 0,
      "outputs": []
    },
    {
      "cell_type": "code",
      "metadata": {
        "id": "bZRUGOjOOD39",
        "colab_type": "code",
        "outputId": "5fb4504c-bd14-4198-c55a-17cbc2cdf55b",
        "colab": {
          "base_uri": "https://localhost:8080/",
          "height": 231
        }
      },
      "source": [
        "columns = ['Test RMSE', 'Test R2']\n",
        "rows = ['Lars','Lasso', 'ols', 'LassoCV']\n",
        "results = pd.DataFrame(columns=columns, index=rows)\n",
        "\n",
        "methods = [lars,lasso,ols,lassoCV]\n",
        "# .iloc[row, column]\n",
        "for i, method in enumerate(methods):\n",
        "  y_pred = method.predict(dep)\n",
        "  results.iloc[i,0] = np.sqrt(mean_squared_error(target,y_pred))\n",
        "  results.iloc[i,1] = r2_score(target, y_pred)"
      ],
      "execution_count": 0,
      "outputs": [
        {
          "output_type": "error",
          "ename": "NameError",
          "evalue": "ignored",
          "traceback": [
            "\u001b[0;31m---------------------------------------------------------------------------\u001b[0m",
            "\u001b[0;31mNameError\u001b[0m                                 Traceback (most recent call last)",
            "\u001b[0;32m<ipython-input-59-7109060009d5>\u001b[0m in \u001b[0;36m<module>\u001b[0;34m()\u001b[0m\n\u001b[1;32m      3\u001b[0m \u001b[0mresults\u001b[0m \u001b[0;34m=\u001b[0m \u001b[0mpd\u001b[0m\u001b[0;34m.\u001b[0m\u001b[0mDataFrame\u001b[0m\u001b[0;34m(\u001b[0m\u001b[0mcolumns\u001b[0m\u001b[0;34m=\u001b[0m\u001b[0mcolumns\u001b[0m\u001b[0;34m,\u001b[0m \u001b[0mindex\u001b[0m\u001b[0;34m=\u001b[0m\u001b[0mrows\u001b[0m\u001b[0;34m)\u001b[0m\u001b[0;34m\u001b[0m\u001b[0;34m\u001b[0m\u001b[0m\n\u001b[1;32m      4\u001b[0m \u001b[0;34m\u001b[0m\u001b[0m\n\u001b[0;32m----> 5\u001b[0;31m \u001b[0mmethods\u001b[0m \u001b[0;34m=\u001b[0m \u001b[0;34m[\u001b[0m\u001b[0mlars\u001b[0m\u001b[0;34m,\u001b[0m\u001b[0mlasso\u001b[0m\u001b[0;34m,\u001b[0m\u001b[0mols\u001b[0m\u001b[0;34m,\u001b[0m\u001b[0mlassoCV\u001b[0m\u001b[0;34m]\u001b[0m\u001b[0;34m\u001b[0m\u001b[0;34m\u001b[0m\u001b[0m\n\u001b[0m\u001b[1;32m      6\u001b[0m \u001b[0;31m# .iloc[row, column]\u001b[0m\u001b[0;34m\u001b[0m\u001b[0;34m\u001b[0m\u001b[0;34m\u001b[0m\u001b[0m\n\u001b[1;32m      7\u001b[0m \u001b[0;32mfor\u001b[0m \u001b[0mi\u001b[0m\u001b[0;34m,\u001b[0m \u001b[0mmethod\u001b[0m \u001b[0;32min\u001b[0m \u001b[0menumerate\u001b[0m\u001b[0;34m(\u001b[0m\u001b[0mmethods\u001b[0m\u001b[0;34m)\u001b[0m\u001b[0;34m:\u001b[0m\u001b[0;34m\u001b[0m\u001b[0;34m\u001b[0m\u001b[0m\n",
            "\u001b[0;31mNameError\u001b[0m: name 'lassoCV' is not defined"
          ]
        }
      ]
    },
    {
      "cell_type": "code",
      "metadata": {
        "id": "XcbmjHl-P-2S",
        "colab_type": "code",
        "outputId": "8bcda96a-566e-42e0-fb4b-b6eda5f8d9e3",
        "colab": {
          "base_uri": "https://localhost:8080/",
          "height": 142
        }
      },
      "source": [
        "results"
      ],
      "execution_count": 0,
      "outputs": [
        {
          "output_type": "execute_result",
          "data": {
            "text/html": [
              "<div>\n",
              "<style scoped>\n",
              "    .dataframe tbody tr th:only-of-type {\n",
              "        vertical-align: middle;\n",
              "    }\n",
              "\n",
              "    .dataframe tbody tr th {\n",
              "        vertical-align: top;\n",
              "    }\n",
              "\n",
              "    .dataframe thead th {\n",
              "        text-align: right;\n",
              "    }\n",
              "</style>\n",
              "<table border=\"1\" class=\"dataframe\">\n",
              "  <thead>\n",
              "    <tr style=\"text-align: right;\">\n",
              "      <th></th>\n",
              "      <th>Test RMSE</th>\n",
              "      <th>Test R2</th>\n",
              "    </tr>\n",
              "  </thead>\n",
              "  <tbody>\n",
              "    <tr>\n",
              "      <th>Lars</th>\n",
              "      <td>10.6637</td>\n",
              "      <td>0.925156</td>\n",
              "    </tr>\n",
              "    <tr>\n",
              "      <th>Lasso</th>\n",
              "      <td>11.1324</td>\n",
              "      <td>0.918433</td>\n",
              "    </tr>\n",
              "    <tr>\n",
              "      <th>ols</th>\n",
              "      <td>10.6637</td>\n",
              "      <td>0.925156</td>\n",
              "    </tr>\n",
              "  </tbody>\n",
              "</table>\n",
              "</div>"
            ],
            "text/plain": [
              "      Test RMSE   Test R2\n",
              "Lars    10.6637  0.925156\n",
              "Lasso   11.1324  0.918433\n",
              "ols     10.6637  0.925156"
            ]
          },
          "metadata": {
            "tags": []
          },
          "execution_count": 54
        }
      ]
    },
    {
      "cell_type": "code",
      "metadata": {
        "id": "77qSxIcDNztX",
        "colab_type": "code",
        "outputId": "4479273c-ee1f-42e0-94bf-fc76434f021d",
        "colab": {
          "base_uri": "https://localhost:8080/",
          "height": 51
        }
      },
      "source": [
        "predictions = lars.predict(dep)\n",
        "error = abs(predictions-target)\n",
        "meanerror = np.mean(error)\n",
        "print(meanerror)\n",
        "print(np.std(error))"
      ],
      "execution_count": 0,
      "outputs": [
        {
          "output_type": "stream",
          "text": [
            "4.989450647003898\n",
            "9.424441518169074\n"
          ],
          "name": "stdout"
        }
      ]
    },
    {
      "cell_type": "code",
      "metadata": {
        "id": "LGnZqmVnOBhQ",
        "colab_type": "code",
        "colab": {}
      },
      "source": [
        "model = LassoCV(cv=20, precompute=False)\n",
        "lasso = model.fit(dep, target)"
      ],
      "execution_count": 0,
      "outputs": []
    },
    {
      "cell_type": "code",
      "metadata": {
        "id": "hZhYtsYtRFyQ",
        "colab_type": "code",
        "colab": {}
      },
      "source": [
        ""
      ],
      "execution_count": 0,
      "outputs": []
    },
    {
      "cell_type": "code",
      "metadata": {
        "id": "IipLHpeTQn7G",
        "colab_type": "code",
        "outputId": "4ade0af8-482a-4181-bd4f-ba2920ce6787",
        "colab": {
          "base_uri": "https://localhost:8080/",
          "height": 204
        }
      },
      "source": [
        "predictors_model=pd.DataFrame(dep.columns)\n",
        "predictors_model.columns = ['label']\n",
        "predictors_model['coeff'] = lars.coef_\n",
        "predictors_model"
      ],
      "execution_count": 0,
      "outputs": [
        {
          "output_type": "execute_result",
          "data": {
            "text/html": [
              "<div>\n",
              "<style scoped>\n",
              "    .dataframe tbody tr th:only-of-type {\n",
              "        vertical-align: middle;\n",
              "    }\n",
              "\n",
              "    .dataframe tbody tr th {\n",
              "        vertical-align: top;\n",
              "    }\n",
              "\n",
              "    .dataframe thead th {\n",
              "        text-align: right;\n",
              "    }\n",
              "</style>\n",
              "<table border=\"1\" class=\"dataframe\">\n",
              "  <thead>\n",
              "    <tr style=\"text-align: right;\">\n",
              "      <th></th>\n",
              "      <th>label</th>\n",
              "      <th>coeff</th>\n",
              "    </tr>\n",
              "  </thead>\n",
              "  <tbody>\n",
              "    <tr>\n",
              "      <th>0</th>\n",
              "      <td>CPA</td>\n",
              "      <td>-0.274662</td>\n",
              "    </tr>\n",
              "    <tr>\n",
              "      <th>1</th>\n",
              "      <td>CTR(%)</td>\n",
              "      <td>11.013973</td>\n",
              "    </tr>\n",
              "    <tr>\n",
              "      <th>2</th>\n",
              "      <td>Clicks</td>\n",
              "      <td>-0.007647</td>\n",
              "    </tr>\n",
              "    <tr>\n",
              "      <th>3</th>\n",
              "      <td>Cost</td>\n",
              "      <td>0.148190</td>\n",
              "    </tr>\n",
              "    <tr>\n",
              "      <th>4</th>\n",
              "      <td>Impressions</td>\n",
              "      <td>0.000015</td>\n",
              "    </tr>\n",
              "  </tbody>\n",
              "</table>\n",
              "</div>"
            ],
            "text/plain": [
              "         label      coeff\n",
              "0          CPA  -0.274662\n",
              "1       CTR(%)  11.013973\n",
              "2       Clicks  -0.007647\n",
              "3         Cost   0.148190\n",
              "4  Impressions   0.000015"
            ]
          },
          "metadata": {
            "tags": []
          },
          "execution_count": 56
        }
      ]
    }
  ]
}